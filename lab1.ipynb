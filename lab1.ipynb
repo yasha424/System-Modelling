{
 "cells": [
  {
   "cell_type": "code",
   "execution_count": 71,
   "metadata": {},
   "outputs": [],
   "source": [
    "import matplotlib.pyplot as plt\n",
    "import numpy as np\n",
    "from scipy.stats import expon, chi2"
   ]
  },
  {
   "cell_type": "code",
   "execution_count": 74,
   "metadata": {},
   "outputs": [],
   "source": [
    "entries_num = 10000\n",
    "lambda_vals = [0.1, 0.5, 1, 1.5, 2]\n",
    "bins_num = 50\n",
    "alpha = 0.01"
   ]
  },
  {
   "cell_type": "code",
   "execution_count": 97,
   "metadata": {},
   "outputs": [],
   "source": [
    "def get_chi_squared_stat(observed_data, expected_frequencies):\n",
    "    observed_frequencies = np.histogram(observed_data, bins=bins_num, density=True)[0]\n",
    "    # x_theor = np.linspace(0, x_max, 50)\n",
    "    # expected_frequencies = expon.pdf(x_theor, scale=1/lam)\n",
    "    chi_squared_stat = np.sum((observed_frequencies - expected_frequencies) ** 2 / expected_frequencies)\n",
    "    critical_val = chi2.ppf(1-alpha, bins_num-1)\n",
    "    return chi_squared_stat, critical_val"
   ]
  },
  {
   "cell_type": "markdown",
   "metadata": {},
   "source": [
    "Експоненційний розподіл"
   ]
  },
  {
   "cell_type": "code",
   "execution_count": 63,
   "metadata": {},
   "outputs": [],
   "source": [
    "def get_random_exp_nums(lam):\n",
    "    rand_nums = np.random.rand(entries_num)\n",
    "    return (-1 / lam) * np.log(rand_nums)"
   ]
  },
  {
   "cell_type": "code",
   "execution_count": 94,
   "metadata": {},
   "outputs": [],
   "source": [
    "def get_x_theor(x_max, lam):\n",
    "    x_theor_range = np.linspace(0, x_max, 50)\n",
    "    theor_pdf = np.e ** (-lam * x_theor_range) * lam\n",
    "    return x_theor_range, theor_pdf"
   ]
  },
  {
   "cell_type": "code",
   "execution_count": null,
   "metadata": {},
   "outputs": [],
   "source": [
    "for lam in lambda_vals:\n",
    "    x = get_random_exp_nums(lam)\n",
    "    plt.hist(x, bins=bins_num, density=True, label=\"Згенеровані дані\")\n",
    "\n",
    "    x_max = np.max(x)\n",
    "    x_theor_range, theor_pdf = get_x_theor(x_max, lam)\n",
    "    plt.plot(x_theor_range, theor_pdf, \"r-\", label=\"Теоретичний PDF\")\n",
    "\n",
    "    mean = np.mean(x)\n",
    "    variance = np.var(x)\n",
    "\n",
    "    chi_squared_stat, critical_val = get_chi_squared_stat(x, theor_pdf)\n",
    "\n",
    "    print(f\"Середнє = {mean}\")\n",
    "    print(f\"Дисперсія = {variance}\")\n",
    "    print(f\"Статистика Х^2: {chi_squared_stat}\")\n",
    "    print(f\"Критичне значення Х^2: {critical_val}\")\n",
    "\n",
    "    if critical_val < chi_squared_stat:\n",
    "        print(f\"Відхиляємо нульову гіпотезу\")\n",
    "    else:\n",
    "        print(f\"Не відхиляємо нульову гіпотезу\")\n",
    "\n",
    "    plt.legend()\n",
    "    plt.title(f\"λ = {lam}\")\n",
    "    plt.xlabel(\"Значення\")\n",
    "    plt.ylabel(\"Частота\")\n",
    "    plt.show()"
   ]
  },
  {
   "cell_type": "markdown",
   "metadata": {},
   "source": [
    "Нормальний розподіл"
   ]
  },
  {
   "cell_type": "code",
   "execution_count": 79,
   "metadata": {},
   "outputs": [],
   "source": [
    "from scipy.stats import norm"
   ]
  },
  {
   "cell_type": "code",
   "execution_count": 90,
   "metadata": {},
   "outputs": [],
   "source": [
    "a_vals = [-1, 0, 1]\n",
    "sigma_vals = [0.5, 1, 4]"
   ]
  },
  {
   "cell_type": "code",
   "execution_count": 88,
   "metadata": {},
   "outputs": [],
   "source": [
    "def mu():\n",
    "    return np.sum(np.random.rand(12)) - 6"
   ]
  },
  {
   "cell_type": "code",
   "execution_count": null,
   "metadata": {},
   "outputs": [],
   "source": [
    "for a in a_vals:\n",
    "    for sigma in sigma_vals:\n",
    "        x = sigma * np.array([mu() for _ in range(entries_num)]) + a\n",
    "        plt.hist(x, bins=bins_num, density=True, label=f\"Згенеровані дані\")\n",
    "\n",
    "        mean = np.mean(x)\n",
    "        variance = np.var(x)\n",
    "\n",
    "        x_range = np.linspace(min(x), max(x), 50)\n",
    "        theor_pdf = norm.pdf(x_range, loc=mean, scale=np.sqrt(variance))\n",
    "        plt.plot(x_range, theor_pdf, 'r-', label=\"Теоретичний PDF\")\n",
    "\n",
    "        chi_squared_stat, critical_val = get_chi_squared_stat(x, theor_pdf)\n",
    "\n",
    "        print(f\"Середнє = {mean}\")\n",
    "        print(f\"Дисперсія = {variance}\")\n",
    "        print(f\"Статистика Х^2: {chi_squared_stat}\")\n",
    "        print(f\"Критичне значення Х^2: {critical_val}\")\n",
    "\n",
    "        if critical_val < chi_squared_stat:\n",
    "            print(f\"Відхиляємо нульову гіпотезу\")\n",
    "        else:\n",
    "            print(f\"Не відхиляємо нульову гіпотезу\")\n",
    "\n",
    "        plt.title(f\"sigma = {sigma}, a = {a}\")\n",
    "        plt.legend()\n",
    "        plt.show()\n",
    "\n",
    "        "
   ]
  },
  {
   "cell_type": "markdown",
   "metadata": {},
   "source": [
    "Рівномірний розподіл"
   ]
  },
  {
   "cell_type": "code",
   "execution_count": null,
   "metadata": {},
   "outputs": [],
   "source": [
    "a = [-1, 0, 1]\n",
    "c = []"
   ]
  }
 ],
 "metadata": {
  "kernelspec": {
   "display_name": "Python 3",
   "language": "python",
   "name": "python3"
  },
  "language_info": {
   "codemirror_mode": {
    "name": "ipython",
    "version": 3
   },
   "file_extension": ".py",
   "mimetype": "text/x-python",
   "name": "python",
   "nbconvert_exporter": "python",
   "pygments_lexer": "ipython3",
   "version": "3.9.6"
  }
 },
 "nbformat": 4,
 "nbformat_minor": 2
}
